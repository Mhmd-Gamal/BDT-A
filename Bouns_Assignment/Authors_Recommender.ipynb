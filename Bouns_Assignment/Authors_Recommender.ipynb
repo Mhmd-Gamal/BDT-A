{
  "nbformat": 4,
  "nbformat_minor": 0,
  "metadata": {
    "colab": {
      "name": "Authors_Recommender.ipynb",
      "provenance": [],
      "collapsed_sections": []
    },
    "kernelspec": {
      "name": "python3",
      "display_name": "Python 3"
    },
    "language_info": {
      "name": "python"
    }
  },
  "cells": [
    {
      "cell_type": "markdown",
      "source": [
        "# Authors Recommendation System"
      ],
      "metadata": {
        "id": "NX_pOulP-4VH"
      }
    },
    {
      "cell_type": "markdown",
      "source": [
        "**- Big Data, Innopolis University (Fall semester 2021)**\n",
        "\n",
        "**- Name** : Mohamed Gamal Elbayoumi\n",
        "**- Email** : m.elbayoumi@innopolis.university"
      ],
      "metadata": {
        "id": "zYFP1IiO-6St"
      }
    },
    {
      "cell_type": "code",
      "source": [
        "from google.colab import drive\n",
        "drive.mount('/content/drive')"
      ],
      "metadata": {
        "colab": {
          "base_uri": "https://localhost:8080/"
        },
        "id": "XB9ZBq2_JEy3",
        "outputId": "2bce1e47-0854-41db-df77-90c91786ecd5"
      },
      "execution_count": 15,
      "outputs": [
        {
          "output_type": "stream",
          "name": "stdout",
          "text": [
            "Drive already mounted at /content/drive; to attempt to forcibly remount, call drive.mount(\"/content/drive\", force_remount=True).\n"
          ]
        }
      ]
    },
    {
      "cell_type": "code",
      "execution_count": 16,
      "metadata": {
        "id": "6q_imeON-SdX"
      },
      "outputs": [],
      "source": [
        "# Import Libraries\n",
        "import pandas as pd\n",
        "import numpy as np\n",
        "from scipy.sparse import csr_matrix\n",
        "from sklearn.neighbors import NearestNeighbors\n",
        "import matplotlib.pyplot as plt\n",
        "import seaborn as sns"
      ]
    },
    {
      "cell_type": "code",
      "source": [
        "path_dir = \"/content/drive/MyDrive/Authors_Dataset.csv\"\n",
        "\n",
        "dataframe = movies = pd.read_csv(path_dir)\n",
        " "
      ],
      "metadata": {
        "id": "4aus9RVx-nk2"
      },
      "execution_count": 127,
      "outputs": []
    },
    {
      "cell_type": "code",
      "source": [
        "dataframe.head()"
      ],
      "metadata": {
        "colab": {
          "base_uri": "https://localhost:8080/",
          "height": 414
        },
        "id": "_KQ3ZcYyJSKZ",
        "outputId": "09211f50-b9fd-4715-cf7b-4a05885a0201"
      },
      "execution_count": 128,
      "outputs": [
        {
          "output_type": "execute_result",
          "data": {
            "text/html": [
              "<div>\n",
              "<style scoped>\n",
              "    .dataframe tbody tr th:only-of-type {\n",
              "        vertical-align: middle;\n",
              "    }\n",
              "\n",
              "    .dataframe tbody tr th {\n",
              "        vertical-align: top;\n",
              "    }\n",
              "\n",
              "    .dataframe thead th {\n",
              "        text-align: right;\n",
              "    }\n",
              "</style>\n",
              "<table border=\"1\" class=\"dataframe\">\n",
              "  <thead>\n",
              "    <tr style=\"text-align: right;\">\n",
              "      <th></th>\n",
              "      <th>Authors</th>\n",
              "      <th>Author(s) ID</th>\n",
              "      <th>Title</th>\n",
              "      <th>Link</th>\n",
              "      <th>Author Keywords</th>\n",
              "      <th>Index Keywords</th>\n",
              "    </tr>\n",
              "  </thead>\n",
              "  <tbody>\n",
              "    <tr>\n",
              "      <th>0</th>\n",
              "      <td>Boby R.A.</td>\n",
              "      <td>36069116200;</td>\n",
              "      <td>Identification of elasto-static parameters of ...</td>\n",
              "      <td>https://www.scopus.com/inward/record.uri?eid=2...</td>\n",
              "      <td>Accuracy; Camera; Computer vision; Elasto-stat...</td>\n",
              "      <td>Computer vision; End effectors; Errors; Indust...</td>\n",
              "    </tr>\n",
              "    <tr>\n",
              "      <th>1</th>\n",
              "      <td>Ayyub M., Oracevic A., Hussain R., Khan A.A., ...</td>\n",
              "      <td>57322543000;55229307000;35324500900;5720027634...</td>\n",
              "      <td>A comprehensive survey on clustering in vehicu...</td>\n",
              "      <td>https://www.scopus.com/inward/record.uri?eid=2...</td>\n",
              "      <td>Clustering; Connected car; Intelligent Transpo...</td>\n",
              "      <td>Application programs; Biomimetics; Cluster ana...</td>\n",
              "    </tr>\n",
              "    <tr>\n",
              "      <th>2</th>\n",
              "      <td>Dlamini G., Jolha F., Kholmatova Z., Succi G.</td>\n",
              "      <td>57216151508;57312981500;57219433553;7004757466;</td>\n",
              "      <td>Meta-analytical comparison of energy consumed ...</td>\n",
              "      <td>https://www.scopus.com/inward/record.uri?eid=2...</td>\n",
              "      <td>Embedded systems; Energy consumption; Energy e...</td>\n",
              "      <td>Embedded systems; Energy utilization; Mobile c...</td>\n",
              "    </tr>\n",
              "    <tr>\n",
              "      <th>3</th>\n",
              "      <td>Briskin E.S., Platonov V.уN., Smirnaya L.D.</td>\n",
              "      <td>6506125834;57265434900;57219114324;</td>\n",
              "      <td>About the Distribution of Traction Efforts Bet...</td>\n",
              "      <td>https://www.scopus.com/inward/record.uri?eid=2...</td>\n",
              "      <td>Anchor-cable propulsion device; Distribution o...</td>\n",
              "      <td>NaN</td>\n",
              "    </tr>\n",
              "    <tr>\n",
              "      <th>4</th>\n",
              "      <td>Bordyugov D.V., Briskin E.S., Sharonov N.G.</td>\n",
              "      <td>57265051200;6506125834;56263638700;</td>\n",
              "      <td>The Motion Control Research of the Mobile Robo...</td>\n",
              "      <td>https://www.scopus.com/inward/record.uri?eid=2...</td>\n",
              "      <td>Propulsion device; Robotics; Vibration</td>\n",
              "      <td>NaN</td>\n",
              "    </tr>\n",
              "  </tbody>\n",
              "</table>\n",
              "</div>"
            ],
            "text/plain": [
              "                                             Authors  ...                                     Index Keywords\n",
              "0                                          Boby R.A.  ...  Computer vision; End effectors; Errors; Indust...\n",
              "1  Ayyub M., Oracevic A., Hussain R., Khan A.A., ...  ...  Application programs; Biomimetics; Cluster ana...\n",
              "2      Dlamini G., Jolha F., Kholmatova Z., Succi G.  ...  Embedded systems; Energy utilization; Mobile c...\n",
              "3        Briskin E.S., Platonov V.уN., Smirnaya L.D.  ...                                                NaN\n",
              "4        Bordyugov D.V., Briskin E.S., Sharonov N.G.  ...                                                NaN\n",
              "\n",
              "[5 rows x 6 columns]"
            ]
          },
          "metadata": {},
          "execution_count": 128
        }
      ]
    },
    {
      "cell_type": "code",
      "source": [
        "dataframe.info()"
      ],
      "metadata": {
        "colab": {
          "base_uri": "https://localhost:8080/"
        },
        "id": "8WtXw0DmkRXl",
        "outputId": "a59aa3e3-de59-4dda-e48b-ffd0b9e0f30a"
      },
      "execution_count": 129,
      "outputs": [
        {
          "output_type": "stream",
          "name": "stdout",
          "text": [
            "<class 'pandas.core.frame.DataFrame'>\n",
            "RangeIndex: 871 entries, 0 to 870\n",
            "Data columns (total 6 columns):\n",
            " #   Column           Non-Null Count  Dtype \n",
            "---  ------           --------------  ----- \n",
            " 0   Authors          871 non-null    object\n",
            " 1   Author(s) ID     871 non-null    object\n",
            " 2   Title            871 non-null    object\n",
            " 3   Link             871 non-null    object\n",
            " 4   Author Keywords  677 non-null    object\n",
            " 5   Index Keywords   756 non-null    object\n",
            "dtypes: object(6)\n",
            "memory usage: 41.0+ KB\n"
          ]
        }
      ]
    },
    {
      "cell_type": "code",
      "source": [
        "dataframe = dataframe.drop(['Title', 'Link'], axis= 1)"
      ],
      "metadata": {
        "id": "ITF-OORFJVrA"
      },
      "execution_count": 130,
      "outputs": []
    },
    {
      "cell_type": "code",
      "source": [
        "dataframe.head()"
      ],
      "metadata": {
        "colab": {
          "base_uri": "https://localhost:8080/",
          "height": 293
        },
        "id": "Hje9WiIfKdaL",
        "outputId": "10214ff4-b9ec-4adb-80d4-e34d5fc424c3"
      },
      "execution_count": 131,
      "outputs": [
        {
          "output_type": "execute_result",
          "data": {
            "text/html": [
              "<div>\n",
              "<style scoped>\n",
              "    .dataframe tbody tr th:only-of-type {\n",
              "        vertical-align: middle;\n",
              "    }\n",
              "\n",
              "    .dataframe tbody tr th {\n",
              "        vertical-align: top;\n",
              "    }\n",
              "\n",
              "    .dataframe thead th {\n",
              "        text-align: right;\n",
              "    }\n",
              "</style>\n",
              "<table border=\"1\" class=\"dataframe\">\n",
              "  <thead>\n",
              "    <tr style=\"text-align: right;\">\n",
              "      <th></th>\n",
              "      <th>Authors</th>\n",
              "      <th>Author(s) ID</th>\n",
              "      <th>Author Keywords</th>\n",
              "      <th>Index Keywords</th>\n",
              "    </tr>\n",
              "  </thead>\n",
              "  <tbody>\n",
              "    <tr>\n",
              "      <th>0</th>\n",
              "      <td>Boby R.A.</td>\n",
              "      <td>36069116200;</td>\n",
              "      <td>Accuracy; Camera; Computer vision; Elasto-stat...</td>\n",
              "      <td>Computer vision; End effectors; Errors; Indust...</td>\n",
              "    </tr>\n",
              "    <tr>\n",
              "      <th>1</th>\n",
              "      <td>Ayyub M., Oracevic A., Hussain R., Khan A.A., ...</td>\n",
              "      <td>57322543000;55229307000;35324500900;5720027634...</td>\n",
              "      <td>Clustering; Connected car; Intelligent Transpo...</td>\n",
              "      <td>Application programs; Biomimetics; Cluster ana...</td>\n",
              "    </tr>\n",
              "    <tr>\n",
              "      <th>2</th>\n",
              "      <td>Dlamini G., Jolha F., Kholmatova Z., Succi G.</td>\n",
              "      <td>57216151508;57312981500;57219433553;7004757466;</td>\n",
              "      <td>Embedded systems; Energy consumption; Energy e...</td>\n",
              "      <td>Embedded systems; Energy utilization; Mobile c...</td>\n",
              "    </tr>\n",
              "    <tr>\n",
              "      <th>3</th>\n",
              "      <td>Briskin E.S., Platonov V.уN., Smirnaya L.D.</td>\n",
              "      <td>6506125834;57265434900;57219114324;</td>\n",
              "      <td>Anchor-cable propulsion device; Distribution o...</td>\n",
              "      <td>NaN</td>\n",
              "    </tr>\n",
              "    <tr>\n",
              "      <th>4</th>\n",
              "      <td>Bordyugov D.V., Briskin E.S., Sharonov N.G.</td>\n",
              "      <td>57265051200;6506125834;56263638700;</td>\n",
              "      <td>Propulsion device; Robotics; Vibration</td>\n",
              "      <td>NaN</td>\n",
              "    </tr>\n",
              "  </tbody>\n",
              "</table>\n",
              "</div>"
            ],
            "text/plain": [
              "                                             Authors  ...                                     Index Keywords\n",
              "0                                          Boby R.A.  ...  Computer vision; End effectors; Errors; Indust...\n",
              "1  Ayyub M., Oracevic A., Hussain R., Khan A.A., ...  ...  Application programs; Biomimetics; Cluster ana...\n",
              "2      Dlamini G., Jolha F., Kholmatova Z., Succi G.  ...  Embedded systems; Energy utilization; Mobile c...\n",
              "3        Briskin E.S., Platonov V.уN., Smirnaya L.D.  ...                                                NaN\n",
              "4        Bordyugov D.V., Briskin E.S., Sharonov N.G.  ...                                                NaN\n",
              "\n",
              "[5 rows x 4 columns]"
            ]
          },
          "metadata": {},
          "execution_count": 131
        }
      ]
    },
    {
      "cell_type": "code",
      "source": [
        "dataframe['keys'] = dataframe['Author Keywords'].astype(str)+dataframe['Index Keywords'].astype(str) "
      ],
      "metadata": {
        "id": "LbxDCLqV9alb"
      },
      "execution_count": 132,
      "outputs": []
    },
    {
      "cell_type": "code",
      "source": [
        "dataframe = dataframe.drop(['Author Keywords', 'Index Keywords'], axis=1)"
      ],
      "metadata": {
        "id": "zy8pL144-Ubx"
      },
      "execution_count": 133,
      "outputs": []
    },
    {
      "cell_type": "code",
      "source": [
        "dataframe['Authors']= dataframe['Authors'].apply(lambda x : pd.Series(x.split(',')))\n",
        "dataframe['Author(s) ID']= dataframe['Author(s) ID'].apply(lambda x : pd.Series(x.split(';')))"
      ],
      "metadata": {
        "id": "PytTbK6DCS7X"
      },
      "execution_count": 134,
      "outputs": []
    },
    {
      "cell_type": "code",
      "source": [
        "dataframe['keys'] = dataframe['keys'].str.split(';')"
      ],
      "metadata": {
        "id": "5tjRkSDKHv2H"
      },
      "execution_count": 135,
      "outputs": []
    },
    {
      "cell_type": "code",
      "source": [
        "dataframe.head()"
      ],
      "metadata": {
        "colab": {
          "base_uri": "https://localhost:8080/",
          "height": 206
        },
        "id": "zQfs7Mj9C5O_",
        "outputId": "8ac047f7-0d0c-490f-d8e0-75e52c343d2c"
      },
      "execution_count": 136,
      "outputs": [
        {
          "output_type": "execute_result",
          "data": {
            "text/html": [
              "<div>\n",
              "<style scoped>\n",
              "    .dataframe tbody tr th:only-of-type {\n",
              "        vertical-align: middle;\n",
              "    }\n",
              "\n",
              "    .dataframe tbody tr th {\n",
              "        vertical-align: top;\n",
              "    }\n",
              "\n",
              "    .dataframe thead th {\n",
              "        text-align: right;\n",
              "    }\n",
              "</style>\n",
              "<table border=\"1\" class=\"dataframe\">\n",
              "  <thead>\n",
              "    <tr style=\"text-align: right;\">\n",
              "      <th></th>\n",
              "      <th>Authors</th>\n",
              "      <th>Author(s) ID</th>\n",
              "      <th>keys</th>\n",
              "    </tr>\n",
              "  </thead>\n",
              "  <tbody>\n",
              "    <tr>\n",
              "      <th>0</th>\n",
              "      <td>Boby R.A.</td>\n",
              "      <td>36069116200</td>\n",
              "      <td>[Accuracy,  Camera,  Computer vision,  Elasto-...</td>\n",
              "    </tr>\n",
              "    <tr>\n",
              "      <th>1</th>\n",
              "      <td>Ayyub M.</td>\n",
              "      <td>57322543000</td>\n",
              "      <td>[Clustering,  Connected car,  Intelligent Tran...</td>\n",
              "    </tr>\n",
              "    <tr>\n",
              "      <th>2</th>\n",
              "      <td>Dlamini G.</td>\n",
              "      <td>57216151508</td>\n",
              "      <td>[Embedded systems,  Energy consumption,  Energ...</td>\n",
              "    </tr>\n",
              "    <tr>\n",
              "      <th>3</th>\n",
              "      <td>Briskin E.S.</td>\n",
              "      <td>6506125834</td>\n",
              "      <td>[Anchor-cable propulsion device,  Distribution...</td>\n",
              "    </tr>\n",
              "    <tr>\n",
              "      <th>4</th>\n",
              "      <td>Bordyugov D.V.</td>\n",
              "      <td>57265051200</td>\n",
              "      <td>[Propulsion device,  Robotics,  Vibrationnan]</td>\n",
              "    </tr>\n",
              "  </tbody>\n",
              "</table>\n",
              "</div>"
            ],
            "text/plain": [
              "          Authors  ...                                               keys\n",
              "0       Boby R.A.  ...  [Accuracy,  Camera,  Computer vision,  Elasto-...\n",
              "1        Ayyub M.  ...  [Clustering,  Connected car,  Intelligent Tran...\n",
              "2      Dlamini G.  ...  [Embedded systems,  Energy consumption,  Energ...\n",
              "3    Briskin E.S.  ...  [Anchor-cable propulsion device,  Distribution...\n",
              "4  Bordyugov D.V.  ...      [Propulsion device,  Robotics,  Vibrationnan]\n",
              "\n",
              "[5 rows x 3 columns]"
            ]
          },
          "metadata": {},
          "execution_count": 136
        }
      ]
    },
    {
      "cell_type": "code",
      "source": [
        "# Test number of keys\n",
        "len(dataframe['keys'][0])"
      ],
      "metadata": {
        "colab": {
          "base_uri": "https://localhost:8080/"
        },
        "id": "6bggBG5lJfnC",
        "outputId": "29a524c5-87d2-457f-eeba-4768954b624c"
      },
      "execution_count": 138,
      "outputs": [
        {
          "output_type": "execute_result",
          "data": {
            "text/plain": [
              "23"
            ]
          },
          "metadata": {},
          "execution_count": 138
        }
      ]
    },
    {
      "cell_type": "code",
      "source": [
        "dataframe['keys'] = dataframe.groupby(['Authors', 'Author(s) ID']).transform('sum')\n"
      ],
      "metadata": {
        "id": "1Kw-zn3DJScD"
      },
      "execution_count": 139,
      "outputs": []
    },
    {
      "cell_type": "code",
      "source": [
        "# Test number of keys\n",
        "len(dataframe['keys'][0])"
      ],
      "metadata": {
        "colab": {
          "base_uri": "https://localhost:8080/"
        },
        "id": "6OeFGpiOJ1Ra",
        "outputId": "76b8b230-a85c-447e-bd25-cc0af316b3ac"
      },
      "execution_count": 140,
      "outputs": [
        {
          "output_type": "execute_result",
          "data": {
            "text/plain": [
              "117"
            ]
          },
          "metadata": {},
          "execution_count": 140
        }
      ]
    },
    {
      "cell_type": "code",
      "source": [
        "dataframe.head()"
      ],
      "metadata": {
        "colab": {
          "base_uri": "https://localhost:8080/",
          "height": 206
        },
        "id": "AuGm4V4tJ3gy",
        "outputId": "83317c6d-f05d-4985-daee-b551fe2a808d"
      },
      "execution_count": 141,
      "outputs": [
        {
          "output_type": "execute_result",
          "data": {
            "text/html": [
              "<div>\n",
              "<style scoped>\n",
              "    .dataframe tbody tr th:only-of-type {\n",
              "        vertical-align: middle;\n",
              "    }\n",
              "\n",
              "    .dataframe tbody tr th {\n",
              "        vertical-align: top;\n",
              "    }\n",
              "\n",
              "    .dataframe thead th {\n",
              "        text-align: right;\n",
              "    }\n",
              "</style>\n",
              "<table border=\"1\" class=\"dataframe\">\n",
              "  <thead>\n",
              "    <tr style=\"text-align: right;\">\n",
              "      <th></th>\n",
              "      <th>Authors</th>\n",
              "      <th>Author(s) ID</th>\n",
              "      <th>keys</th>\n",
              "    </tr>\n",
              "  </thead>\n",
              "  <tbody>\n",
              "    <tr>\n",
              "      <th>0</th>\n",
              "      <td>Boby R.A.</td>\n",
              "      <td>36069116200</td>\n",
              "      <td>[Accuracy,  Camera,  Computer vision,  Elasto-...</td>\n",
              "    </tr>\n",
              "    <tr>\n",
              "      <th>1</th>\n",
              "      <td>Ayyub M.</td>\n",
              "      <td>57322543000</td>\n",
              "      <td>[Clustering,  Connected car,  Intelligent Tran...</td>\n",
              "    </tr>\n",
              "    <tr>\n",
              "      <th>2</th>\n",
              "      <td>Dlamini G.</td>\n",
              "      <td>57216151508</td>\n",
              "      <td>[Embedded systems,  Energy consumption,  Energ...</td>\n",
              "    </tr>\n",
              "    <tr>\n",
              "      <th>3</th>\n",
              "      <td>Briskin E.S.</td>\n",
              "      <td>6506125834</td>\n",
              "      <td>[Anchor-cable propulsion device,  Distribution...</td>\n",
              "    </tr>\n",
              "    <tr>\n",
              "      <th>4</th>\n",
              "      <td>Bordyugov D.V.</td>\n",
              "      <td>57265051200</td>\n",
              "      <td>[Propulsion device,  Robotics,  Vibrationnan]</td>\n",
              "    </tr>\n",
              "  </tbody>\n",
              "</table>\n",
              "</div>"
            ],
            "text/plain": [
              "          Authors  ...                                               keys\n",
              "0       Boby R.A.  ...  [Accuracy,  Camera,  Computer vision,  Elasto-...\n",
              "1        Ayyub M.  ...  [Clustering,  Connected car,  Intelligent Tran...\n",
              "2      Dlamini G.  ...  [Embedded systems,  Energy consumption,  Energ...\n",
              "3    Briskin E.S.  ...  [Anchor-cable propulsion device,  Distribution...\n",
              "4  Bordyugov D.V.  ...      [Propulsion device,  Robotics,  Vibrationnan]\n",
              "\n",
              "[5 rows x 3 columns]"
            ]
          },
          "metadata": {},
          "execution_count": 141
        }
      ]
    },
    {
      "cell_type": "code",
      "source": [
        "# Remove Duplicates\n",
        "dataframe = dataframe.drop_duplicates(subset=['Authors', 'Author(s) ID'])\n"
      ],
      "metadata": {
        "id": "j-1zigbAJ7ap"
      },
      "execution_count": 142,
      "outputs": []
    },
    {
      "cell_type": "code",
      "source": [
        "dataframe.info()"
      ],
      "metadata": {
        "colab": {
          "base_uri": "https://localhost:8080/"
        },
        "id": "uCTBIjhUDnQL",
        "outputId": "bd5a69bd-4ab3-4934-fdbc-336c2a8c90eb"
      },
      "execution_count": 143,
      "outputs": [
        {
          "output_type": "stream",
          "name": "stdout",
          "text": [
            "<class 'pandas.core.frame.DataFrame'>\n",
            "Int64Index: 483 entries, 0 to 869\n",
            "Data columns (total 3 columns):\n",
            " #   Column        Non-Null Count  Dtype \n",
            "---  ------        --------------  ----- \n",
            " 0   Authors       483 non-null    object\n",
            " 1   Author(s) ID  483 non-null    object\n",
            " 2   keys          483 non-null    object\n",
            "dtypes: object(3)\n",
            "memory usage: 15.1+ KB\n"
          ]
        }
      ]
    },
    {
      "cell_type": "code",
      "source": [
        "# Check the missing values\n",
        "dataframe.isna().sum()"
      ],
      "metadata": {
        "colab": {
          "base_uri": "https://localhost:8080/"
        },
        "id": "BGf3QFEDKlf_",
        "outputId": "5ad8c39b-3d56-4602-a9d7-de930d40fc21"
      },
      "execution_count": 125,
      "outputs": [
        {
          "output_type": "execute_result",
          "data": {
            "text/plain": [
              "Authors         0\n",
              "Author(s) ID    0\n",
              "keys            0\n",
              "dtype: int64"
            ]
          },
          "metadata": {},
          "execution_count": 125
        }
      ]
    },
    {
      "cell_type": "code",
      "source": [
        "dataframe.fillna(0,inplace=True)\n"
      ],
      "metadata": {
        "id": "x0ZY1tacLo-s"
      },
      "execution_count": 126,
      "outputs": []
    },
    {
      "cell_type": "code",
      "source": [
        ""
      ],
      "metadata": {
        "id": "uUrDFind7sv_"
      },
      "execution_count": null,
      "outputs": []
    },
    {
      "cell_type": "code",
      "source": [
        "def countkey(lst, x):\n",
        "    count = 0\n",
        "    for ele in lst:\n",
        "        if (ele == x):\n",
        "            count = count + 1\n",
        "    return count\n",
        "\n",
        "def get_author_recommendation(key):\n",
        "    n_authors_to_reccomend = 10\n",
        "    keys_list = dataframe[dataframe['keys'].str.contains(key)]  \n",
        "    if len(keys_list):        \n",
        "        author_idx= keys_list.iloc[0]['Authors']\n",
        "\n",
        "        recommend_frame = []\n",
        "\n",
        "        return df\n",
        "    else:\n",
        "        return \"No author found. Please check your input\""
      ],
      "metadata": {
        "id": "4zq1YDsgLpEK"
      },
      "execution_count": null,
      "outputs": []
    },
    {
      "cell_type": "code",
      "source": [
        ""
      ],
      "metadata": {
        "id": "va2gqwOXLpHE"
      },
      "execution_count": null,
      "outputs": []
    },
    {
      "cell_type": "code",
      "source": [
        ""
      ],
      "metadata": {
        "id": "3Cdb-xMiLpJ6"
      },
      "execution_count": null,
      "outputs": []
    },
    {
      "cell_type": "code",
      "source": [
        ""
      ],
      "metadata": {
        "id": "YhTZ3GeuLpMm"
      },
      "execution_count": null,
      "outputs": []
    },
    {
      "cell_type": "code",
      "source": [
        ""
      ],
      "metadata": {
        "id": "4_wmQEBNLpPV"
      },
      "execution_count": null,
      "outputs": []
    },
    {
      "cell_type": "code",
      "source": [
        ""
      ],
      "metadata": {
        "id": "y-O8ryi_LpSK"
      },
      "execution_count": null,
      "outputs": []
    }
  ]
}